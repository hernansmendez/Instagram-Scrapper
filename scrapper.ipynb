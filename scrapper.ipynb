{
 "cells": [
  {
   "cell_type": "code",
   "execution_count": 6,
   "id": "28d6730c-669e-4178-9ea0-4c9f434e7014",
   "metadata": {
    "tags": []
   },
   "outputs": [
    {
     "name": "stdout",
     "output_type": "stream",
     "text": [
      "\n",
      "\n"
     ]
    },
    {
     "name": "stdin",
     "output_type": "stream",
     "text": [
      "Ingrese un nombre de usuario:  433\n"
     ]
    },
    {
     "name": "stdout",
     "output_type": "stream",
     "text": [
      "\n",
      "\n",
      "Followers: 64M\n",
      "Following: 2,632\n",
      "Posts: 11K\n",
      "https://www.instagram.com/433/\n",
      "\n",
      "\n"
     ]
    },
    {
     "name": "stdin",
     "output_type": "stream",
     "text": [
      "Presione Enter para ingresar otro usuario o escriba \"salir\" para terminar:  \n"
     ]
    },
    {
     "name": "stdout",
     "output_type": "stream",
     "text": [
      "\n",
      "\n",
      "\n",
      "\n"
     ]
    },
    {
     "name": "stdin",
     "output_type": "stream",
     "text": [
      "Ingrese un nombre de usuario:  peces.raros\n"
     ]
    },
    {
     "name": "stdout",
     "output_type": "stream",
     "text": [
      "\n",
      "\n",
      "Followers: 38K\n",
      "Following: 601\n",
      "Posts: 212\n",
      "https://www.instagram.com/peces.raros/\n",
      "\n",
      "\n"
     ]
    },
    {
     "name": "stdin",
     "output_type": "stream",
     "text": [
      "Presione Enter para ingresar otro usuario o escriba \"salir\" para terminar:  salir\n"
     ]
    },
    {
     "name": "stdout",
     "output_type": "stream",
     "text": [
      "\n",
      "\n",
      "Python Tool developed by Hernán Mendez. All rights reserved.\n",
      "\n",
      "\n"
     ]
    }
   ],
   "source": [
    "import requests\n",
    "from bs4 import BeautifulSoup\n",
    "import time\n",
    "\n",
    "\n",
    "def scrap():\n",
    "    print(\"\\n\" * 1)\n",
    "    user = input(\"Ingrese un nombre de usuario: \")\n",
    "    time.sleep(0.1)  # Wait for 0.1 seconds\n",
    "\n",
    "    url = f\"https://www.instagram.com/{user}/\"\n",
    "\n",
    "    response = requests.get(url)\n",
    "    soup = BeautifulSoup(response.content, 'html.parser')\n",
    "\n",
    "    meta_data = soup.find_all('meta', attrs={'property': 'og:description'})\n",
    "    followers = meta_data[0].get('content').split()[0]\n",
    "    following = meta_data[0].get('content').split()[2]\n",
    "    posts = meta_data[0].get('content').split()[4]\n",
    "\n",
    "    print(\"\\n\" * 1)\n",
    "    print('Followers:', followers)\n",
    "    print('Following:', following)\n",
    "    print('Posts:', posts)\n",
    "    print(url)\n",
    "    print(\"\\n\" * 1)\n",
    "\n",
    "    while True:\n",
    "        user_input = input('Presione Enter para ingresar otro usuario o escriba \"salir\" para terminar: ')\n",
    "        if user_input.lower() == 'salir':\n",
    "            print(\"\\n\" * 1)\n",
    "            print(\"Python Tool developed by Hernán Mendez. All rights reserved.\")\n",
    "            print(\"\\n\" * 1)\n",
    "            break\n",
    "        elif user_input == '':\n",
    "            print(\"\\n\" * 1)  # Add some blank lines to clear the output\n",
    "            scrap()\n",
    "            break\n",
    "\n",
    "scrap()\n"
   ]
  },
  {
   "cell_type": "code",
   "execution_count": null,
   "id": "9239bc03-c7a7-4c24-9123-6b0a6ed3fa67",
   "metadata": {},
   "outputs": [],
   "source": []
  }
 ],
 "metadata": {
  "kernelspec": {
   "display_name": "Python 3 (ipykernel)",
   "language": "python",
   "name": "python3"
  },
  "language_info": {
   "codemirror_mode": {
    "name": "ipython",
    "version": 3
   },
   "file_extension": ".py",
   "mimetype": "text/x-python",
   "name": "python",
   "nbconvert_exporter": "python",
   "pygments_lexer": "ipython3",
   "version": "3.11.2"
  }
 },
 "nbformat": 4,
 "nbformat_minor": 5
}
